{
 "cells": [
  {
   "cell_type": "code",
   "execution_count": 2,
   "id": "b1b3b8f4",
   "metadata": {},
   "outputs": [
    {
     "name": "stdout",
     "output_type": "stream",
     "text": [
      "Total Labels Found:  7\n",
      "Found 28709 images belonging to 7 classes.\n",
      "Found 7178 images belonging to 7 classes.\n",
      "Epoch 1/50\n",
      "448/448 [==============================] - 42s 74ms/step - loss: 1.7991 - accuracy: 0.2617 - val_loss: 1.6988 - val_accuracy: 0.3472\n",
      "Epoch 2/50\n",
      "448/448 [==============================] - 33s 74ms/step - loss: 1.6257 - accuracy: 0.3653 - val_loss: 1.5401 - val_accuracy: 0.4113\n",
      "Epoch 3/50\n",
      "448/448 [==============================] - 34s 76ms/step - loss: 1.5201 - accuracy: 0.4139 - val_loss: 1.4603 - val_accuracy: 0.4375\n",
      "Epoch 4/50\n",
      "448/448 [==============================] - 35s 77ms/step - loss: 1.4494 - accuracy: 0.4428 - val_loss: 1.3996 - val_accuracy: 0.4738\n",
      "Epoch 5/50\n",
      "448/448 [==============================] - 36s 80ms/step - loss: 1.3849 - accuracy: 0.4720 - val_loss: 1.3392 - val_accuracy: 0.4895\n",
      "Epoch 6/50\n",
      "448/448 [==============================] - 38s 84ms/step - loss: 1.3349 - accuracy: 0.4941 - val_loss: 1.2975 - val_accuracy: 0.5039\n",
      "Epoch 7/50\n",
      "448/448 [==============================] - 39s 88ms/step - loss: 1.2891 - accuracy: 0.5122 - val_loss: 1.2708 - val_accuracy: 0.5176\n",
      "Epoch 8/50\n",
      "448/448 [==============================] - 39s 87ms/step - loss: 1.2482 - accuracy: 0.5274 - val_loss: 1.2414 - val_accuracy: 0.5286\n",
      "Epoch 9/50\n",
      "448/448 [==============================] - 36s 80ms/step - loss: 1.2092 - accuracy: 0.5421 - val_loss: 1.2110 - val_accuracy: 0.5399\n",
      "Epoch 10/50\n",
      "448/448 [==============================] - 34s 76ms/step - loss: 1.1784 - accuracy: 0.5590 - val_loss: 1.1992 - val_accuracy: 0.5434\n",
      "Epoch 11/50\n",
      "448/448 [==============================] - 33s 75ms/step - loss: 1.1507 - accuracy: 0.5685 - val_loss: 1.1735 - val_accuracy: 0.5529\n",
      "Epoch 12/50\n",
      "448/448 [==============================] - 34s 75ms/step - loss: 1.1232 - accuracy: 0.5784 - val_loss: 1.1688 - val_accuracy: 0.5566\n",
      "Epoch 13/50\n",
      "448/448 [==============================] - 35s 79ms/step - loss: 1.0921 - accuracy: 0.5915 - val_loss: 1.1387 - val_accuracy: 0.5677\n",
      "Epoch 14/50\n",
      "448/448 [==============================] - 37s 82ms/step - loss: 1.0714 - accuracy: 0.5983 - val_loss: 1.1456 - val_accuracy: 0.5668\n",
      "Epoch 15/50\n",
      "448/448 [==============================] - 39s 86ms/step - loss: 1.0446 - accuracy: 0.6106 - val_loss: 1.1207 - val_accuracy: 0.5749\n",
      "Epoch 16/50\n",
      "448/448 [==============================] - 39s 87ms/step - loss: 1.0194 - accuracy: 0.6197 - val_loss: 1.1200 - val_accuracy: 0.5826\n",
      "Epoch 17/50\n",
      "448/448 [==============================] - 36s 80ms/step - loss: 0.9981 - accuracy: 0.6297 - val_loss: 1.1061 - val_accuracy: 0.5816\n",
      "Epoch 18/50\n",
      "448/448 [==============================] - 34s 76ms/step - loss: 0.9722 - accuracy: 0.6399 - val_loss: 1.1067 - val_accuracy: 0.5811\n",
      "Epoch 19/50\n",
      "448/448 [==============================] - 34s 75ms/step - loss: 0.9458 - accuracy: 0.6505 - val_loss: 1.0926 - val_accuracy: 0.5940\n",
      "Epoch 20/50\n",
      "448/448 [==============================] - 33s 74ms/step - loss: 0.9271 - accuracy: 0.6552 - val_loss: 1.0889 - val_accuracy: 0.5904\n",
      "Epoch 21/50\n",
      "448/448 [==============================] - 35s 77ms/step - loss: 0.9082 - accuracy: 0.6656 - val_loss: 1.0822 - val_accuracy: 0.5946\n",
      "Epoch 22/50\n",
      "448/448 [==============================] - 36s 81ms/step - loss: 0.8791 - accuracy: 0.6765 - val_loss: 1.0996 - val_accuracy: 0.5908\n",
      "Epoch 23/50\n",
      "448/448 [==============================] - 38s 85ms/step - loss: 0.8543 - accuracy: 0.6865 - val_loss: 1.0758 - val_accuracy: 0.6023\n",
      "Epoch 24/50\n",
      "448/448 [==============================] - 40s 89ms/step - loss: 0.8366 - accuracy: 0.6915 - val_loss: 1.0712 - val_accuracy: 0.6000\n",
      "Epoch 25/50\n",
      "448/448 [==============================] - 36s 80ms/step - loss: 0.8044 - accuracy: 0.7043 - val_loss: 1.0837 - val_accuracy: 0.6032\n",
      "Epoch 26/50\n",
      "448/448 [==============================] - 34s 77ms/step - loss: 0.7863 - accuracy: 0.7129 - val_loss: 1.0762 - val_accuracy: 0.6055\n",
      "Epoch 27/50\n",
      "448/448 [==============================] - 34s 76ms/step - loss: 0.7648 - accuracy: 0.7215 - val_loss: 1.0723 - val_accuracy: 0.6078\n",
      "Epoch 28/50\n",
      "448/448 [==============================] - 33s 74ms/step - loss: 0.7360 - accuracy: 0.7317 - val_loss: 1.0866 - val_accuracy: 0.6049\n",
      "Epoch 29/50\n",
      "448/448 [==============================] - 34s 76ms/step - loss: 0.7178 - accuracy: 0.7399 - val_loss: 1.0809 - val_accuracy: 0.6104\n",
      "Epoch 30/50\n",
      "448/448 [==============================] - 36s 81ms/step - loss: 0.6923 - accuracy: 0.7454 - val_loss: 1.0801 - val_accuracy: 0.6143\n",
      "Epoch 31/50\n",
      "448/448 [==============================] - 38s 86ms/step - loss: 0.6734 - accuracy: 0.7563 - val_loss: 1.0905 - val_accuracy: 0.6148\n",
      "Epoch 32/50\n",
      "448/448 [==============================] - 40s 88ms/step - loss: 0.6494 - accuracy: 0.7642 - val_loss: 1.0873 - val_accuracy: 0.6144\n",
      "Epoch 33/50\n",
      "448/448 [==============================] - 36s 81ms/step - loss: 0.6270 - accuracy: 0.7719 - val_loss: 1.0968 - val_accuracy: 0.6159\n",
      "Epoch 34/50\n",
      "448/448 [==============================] - 35s 77ms/step - loss: 0.6070 - accuracy: 0.7811 - val_loss: 1.0953 - val_accuracy: 0.6172\n",
      "Epoch 35/50\n",
      "448/448 [==============================] - 34s 75ms/step - loss: 0.5872 - accuracy: 0.7876 - val_loss: 1.1058 - val_accuracy: 0.6175\n",
      "Epoch 36/50\n",
      "448/448 [==============================] - 33s 74ms/step - loss: 0.5637 - accuracy: 0.7972 - val_loss: 1.1283 - val_accuracy: 0.6189\n",
      "Epoch 37/50\n",
      "448/448 [==============================] - 33s 74ms/step - loss: 0.5419 - accuracy: 0.8039 - val_loss: 1.1253 - val_accuracy: 0.6183\n",
      "Epoch 38/50\n",
      "448/448 [==============================] - 35s 77ms/step - loss: 0.5205 - accuracy: 0.8128 - val_loss: 1.1316 - val_accuracy: 0.6210\n",
      "Epoch 39/50\n",
      "448/448 [==============================] - 37s 82ms/step - loss: 0.5069 - accuracy: 0.8193 - val_loss: 1.1211 - val_accuracy: 0.6219\n",
      "Epoch 40/50\n",
      "448/448 [==============================] - 39s 86ms/step - loss: 0.4913 - accuracy: 0.8245 - val_loss: 1.1509 - val_accuracy: 0.6225\n",
      "Epoch 41/50\n",
      "448/448 [==============================] - 39s 86ms/step - loss: 0.4764 - accuracy: 0.8283 - val_loss: 1.1591 - val_accuracy: 0.6198\n",
      "Epoch 42/50\n",
      "448/448 [==============================] - 36s 79ms/step - loss: 0.4580 - accuracy: 0.8347 - val_loss: 1.1689 - val_accuracy: 0.6198\n",
      "Epoch 43/50\n",
      "448/448 [==============================] - 34s 76ms/step - loss: 0.4364 - accuracy: 0.8429 - val_loss: 1.2080 - val_accuracy: 0.6173\n",
      "Epoch 44/50\n",
      "448/448 [==============================] - 35s 77ms/step - loss: 0.4256 - accuracy: 0.8469 - val_loss: 1.1976 - val_accuracy: 0.6222\n",
      "Epoch 45/50\n",
      "448/448 [==============================] - 33s 74ms/step - loss: 0.4143 - accuracy: 0.8522 - val_loss: 1.2085 - val_accuracy: 0.6215\n",
      "Epoch 46/50\n",
      "448/448 [==============================] - 33s 73ms/step - loss: 0.4011 - accuracy: 0.8563 - val_loss: 1.1951 - val_accuracy: 0.6235\n",
      "Epoch 47/50\n",
      "448/448 [==============================] - 35s 79ms/step - loss: 0.3865 - accuracy: 0.8603 - val_loss: 1.2211 - val_accuracy: 0.6223\n",
      "Epoch 48/50\n",
      "448/448 [==============================] - 37s 83ms/step - loss: 0.3726 - accuracy: 0.8662 - val_loss: 1.2522 - val_accuracy: 0.6233\n",
      "Epoch 49/50\n",
      "448/448 [==============================] - 39s 88ms/step - loss: 0.3650 - accuracy: 0.8682 - val_loss: 1.2422 - val_accuracy: 0.6232\n",
      "Epoch 50/50\n",
      "448/448 [==============================] - 39s 87ms/step - loss: 0.3535 - accuracy: 0.8710 - val_loss: 1.2519 - val_accuracy: 0.6257\n"
     ]
    }
   ],
   "source": [
    "# import libraries\n",
    "from keras import Sequential\n",
    "from keras.layers import Dense, Dropout, Flatten\n",
    "from keras.layers import Conv2D\n",
    "from keras import optimizers\n",
    "from keras.layers import MaxPooling2D\n",
    "from keras.preprocessing.image import ImageDataGenerator\n",
    "import tensorflow as tf\n",
    "import os\n",
    "from matplotlib import pyplot as plt\n",
    "\n",
    "# Avoid OOM errors by setting GPU Memory Consumption Growth\n",
    "gpus = tf.config.experimental.list_physical_devices('GPU')\n",
    "for gpu in gpus:\n",
    "    tf.config.experimental.set_memory_growth(gpu, True)\n",
    "# create the train and validate directories\n",
    "train_dir = 'data/train'\n",
    "val_dir = 'data/test'\n",
    "# get a list of the label names\n",
    "label_ids = [item for item in os.listdir(train_dir) if os.path.isdir(os.path.join(train_dir, item))]\n",
    "print('Total Labels Found: ', len(label_ids))\n",
    "# generate a dataset from image files in our directory from scale 1 to 255\n",
    "# because we defined our images in pixels (just an array consisting of values from 1 to 255)\n",
    "train_datagen = ImageDataGenerator(rescale=1./255)\n",
    "val_datagen = ImageDataGenerator(rescale=1./255)\n",
    "# create training generator\n",
    "train_generator = train_datagen.flow_from_directory(\n",
    "    train_dir,\n",
    "    target_size=(48, 48),  # 48 x 48 pixel images\n",
    "    batch_size=64,  # number of training examples uterlized in one iteration\n",
    "    color_mode='grayscale',  # for grayscale and white and black images\n",
    "    class_mode='categorical')  # because we have catergories of faces (angry, sad, etc)\n",
    "# create validation generator\n",
    "validation_generator = val_datagen.flow_from_directory(\n",
    "    val_dir,\n",
    "    target_size=(48, 48),  # 48 x 48 pixel images\n",
    "    batch_size=64,  # number of training examples uterlized in one iteration\n",
    "    color_mode='grayscale',  # for grayscale and white and black images\n",
    "    class_mode='categorical')  # because we have catergories of faces (angry, sad, etc)\n",
    "# create our model for training\n",
    "# initializing our sequential model\n",
    "# Sequential api: allows you to create model layer by layer\n",
    "# but does not allow sharing layers with multiple inputs and outputs\n",
    "# Functional api: allows you to create models with alot of flexibility that you can easily\n",
    "# connect layer to more than just the previous next layer (you can connect layers to literally any layer)\n",
    "model = Sequential()\n",
    "# model configurations\n",
    "model.add(Conv2D(32, kernel_size=(3, 3), activation='relu', input_shape=(48, 48, 1)))\n",
    "model.add(Conv2D(64, kernel_size=(3, 3), activation='relu'))\n",
    "model.add(MaxPooling2D(pool_size=(2, 2)))\n",
    "model.add(Dropout(0.25))\n",
    "model.add(Conv2D(128, kernel_size=(3, 3), activation='relu'))\n",
    "model.add(MaxPooling2D(pool_size=(2, 2)))\n",
    "model.add(Conv2D(128, kernel_size=(3, 3), activation='relu'))\n",
    "model.add(MaxPooling2D(pool_size=(2, 2)))\n",
    "model.add(Dropout(0.25))\n",
    "model.add(Flatten())\n",
    "model.add(Dense(1024, activation='relu'))\n",
    "model.add(Dropout(0.5))\n",
    "model.add(Dense(len(label_ids), activation='softmax'))\n",
    "# compile the model\n",
    "model.compile(loss='categorical_crossentropy', optimizer=optimizers.adam_v2.Adam(learning_rate=0.0001, decay=1e-6),\n",
    "              metrics=['accuracy'])\n",
    "# train the model\n",
    "model_info = model.fit(train_generator, steps_per_epoch=28709 // 64, epochs=50, validation_data=validation_generator, validation_steps=7178 // 64)\n",
    "# Save trained model\n",
    "model.save('model.h5')"
   ]
  },
  {
   "cell_type": "code",
   "execution_count": 3,
   "id": "80da06a1",
   "metadata": {},
   "outputs": [],
   "source": [
    "# save labels to text file\n",
    "with open('labels.txt', 'w') as f:\n",
    "    # loop trhough the found labels\n",
    "    for names in label_ids:\n",
    "        # save in text file in new line\n",
    "        f.write(f\"{names}\\n\")"
   ]
  },
  {
   "cell_type": "code",
   "execution_count": 4,
   "id": "5f6b0bc9",
   "metadata": {},
   "outputs": [
    {
     "data": {
      "image/png": "[encoded data removed]",
      "text/plain": [
       "<Figure size 432x288 with 1 Axes>"
      ]
     },
     "metadata": {
      "needs_background": "light"
     },
     "output_type": "display_data"
    }
   ],
   "source": [
    "# summarize history for accuracy\n",
    "plt.plot(model_info.history['accuracy'])\n",
    "plt.plot(model_info.history['val_accuracy'])\n",
    "plt.title('Model Accuracy')\n",
    "plt.ylabel('accuracy')\n",
    "plt.xlabel('epoch')\n",
    "plt.legend(['train', 'val'], loc='upper left')\n",
    "plt.show()"
   ]
  },
  {
   "cell_type": "code",
   "execution_count": 5,
   "id": "f09fa6a5",
   "metadata": {},
   "outputs": [
    {
     "data": {
      "image/png": "[encoded data removed]",
      "text/plain": [
       "<Figure size 432x288 with 1 Axes>"
      ]
     },
     "metadata": {
      "needs_background": "light"
     },
     "output_type": "display_data"
    }
   ],
   "source": [
    "# summarize history for loss\n",
    "plt.plot(model_info.history['loss'])\n",
    "plt.plot(model_info.history['val_loss'])\n",
    "plt.title('Model Loss')\n",
    "plt.ylabel('loss')\n",
    "plt.xlabel('epoch')\n",
    "plt.legend(['train', 'val'], loc='upper left')\n",
    "plt.show()"
   ]
  },
  {
   "cell_type": "code",
   "execution_count": 6,
   "id": "730f29a7",
   "metadata": {},
   "outputs": [
    {
     "name": "stderr",
     "output_type": "stream",
     "text": [
      "WARNING:absl:Found untraced functions such as _jit_compiled_convolution_op, _jit_compiled_convolution_op, _jit_compiled_convolution_op, _jit_compiled_convolution_op while saving (showing 4 of 4). These functions will not be directly callable after loading.\n"
     ]
    },
    {
     "name": "stdout",
     "output_type": "stream",
     "text": [
      "INFO:tensorflow:Assets written to: C:\\Users\\umolu\\AppData\\Local\\Temp\\tmp35qg5ea9\\assets\n"
     ]
    },
    {
     "name": "stderr",
     "output_type": "stream",
     "text": [
      "INFO:tensorflow:Assets written to: C:\\Users\\umolu\\AppData\\Local\\Temp\\tmp35qg5ea9\\assets\n"
     ]
    }
   ],
   "source": [
    "# Convert the model.\n",
    "converter = tf.lite.TFLiteConverter.from_keras_model(model)\n",
    "tflite_model = converter.convert()\n",
    "# Save the model.\n",
    "with open('model.tflite', 'wb') as f:\n",
    "    f.write(tflite_model)"
   ]
  }
 ],
 "metadata": {
  "kernelspec": {
   "display_name": "Python 3 (ipykernel)",
   "language": "python",
   "name": "python3"
  },
  "language_info": {
   "codemirror_mode": {
    "name": "ipython",
    "version": 3
   },
   "file_extension": ".py",
   "mimetype": "text/x-python",
   "name": "python",
   "nbconvert_exporter": "python",
   "pygments_lexer": "ipython3",
   "version": "3.9.12"
  }
 },
 "nbformat": 4,
 "nbformat_minor": 5
}
